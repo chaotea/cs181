{
 "cells": [
  {
   "cell_type": "code",
   "execution_count": 2,
   "metadata": {},
   "outputs": [],
   "source": [
    "import numpy as np\n",
    "import matplotlib.pyplot as plt\n",
    "from sklearn.preprocessing import StandardScaler"
   ]
  },
  {
   "cell_type": "markdown",
   "metadata": {},
   "source": [
    "### Load raw amplitude data"
   ]
  },
  {
   "cell_type": "code",
   "execution_count": 3,
   "metadata": {},
   "outputs": [],
   "source": [
    "# Load train data\n",
    "X_amp_train = np.load(\"data/Xtrain_amp.npy\")\n",
    "y_amp_train = np.load(\"data/ytrain_amp.npy\")"
   ]
  },
  {
   "cell_type": "code",
   "execution_count": 4,
   "metadata": {},
   "outputs": [],
   "source": [
    "# Load test data\n",
    "X_amp_test = np.load(\"data/Xtest_amp.npy\")\n",
    "y_amp_test = np.load(\"data/ytest_amp.npy\")"
   ]
  },
  {
   "cell_type": "code",
   "execution_count": 5,
   "metadata": {},
   "outputs": [],
   "source": [
    "# Flatten\n",
    "X_amp_train_flat = X_amp_train.reshape(X_amp_train.shape[0], -1)\n",
    "X_amp_test_flat = X_amp_test.reshape(X_amp_test.shape[0], -1)"
   ]
  },
  {
   "cell_type": "code",
   "execution_count": 6,
   "metadata": {},
   "outputs": [],
   "source": [
    "# Standardize\n",
    "scaler_amp = StandardScaler()\n",
    "scaler_amp.fit(X_amp_train_flat)\n",
    "\n",
    "X_amp_train_standardized = scaler_amp.transform(X_amp_train_flat)\n",
    "X_amp_test_standardized = scaler_amp.transform(X_amp_test_flat)"
   ]
  },
  {
   "cell_type": "markdown",
   "metadata": {},
   "source": [
    "### Load Mel spectrogram data"
   ]
  },
  {
   "cell_type": "code",
   "execution_count": 6,
   "metadata": {},
   "outputs": [],
   "source": [
    "# Load train data\n",
    "X_mel_train = np.load(\"data/Xtrain_mel.npy\")\n",
    "y_mel_train = np.load(\"data/ytrain_mel.npy\")"
   ]
  },
  {
   "cell_type": "code",
   "execution_count": 7,
   "metadata": {},
   "outputs": [],
   "source": [
    "# Load test data\n",
    "X_mel_test = np.load(\"data/Xtest_mel.npy\")\n",
    "y_mel_test = np.load(\"data/ytest_mel.npy\")"
   ]
  },
  {
   "cell_type": "code",
   "execution_count": 8,
   "metadata": {
    "scrolled": true
   },
   "outputs": [],
   "source": [
    "# Flatten\n",
    "X_mel_train_flat = X_mel_train.reshape(X_mel_train.shape[0], -1)\n",
    "X_mel_test_flat = X_mel_test.reshape(X_mel_test.shape[0], -1)"
   ]
  },
  {
   "cell_type": "code",
   "execution_count": 9,
   "metadata": {},
   "outputs": [],
   "source": [
    "# Standardize\n",
    "scaler_mel = StandardScaler()\n",
    "scaler_mel.fit(X_mel_train_flat)\n",
    "\n",
    "X_mel_train_standardized = scaler_mel.transform(X_mel_train_flat)\n",
    "X_mel_test_standardized = scaler_mel.transform(X_mel_test_flat)"
   ]
  },
  {
   "cell_type": "markdown",
   "metadata": {},
   "source": [
    "### Part A"
   ]
  },
  {
   "cell_type": "code",
   "execution_count": 11,
   "metadata": {},
   "outputs": [],
   "source": [
    "from sklearn.decomposition import PCA\n",
    "from sklearn.linear_model import LogisticRegression\n",
    "from sklearn.metrics import confusion_matrix"
   ]
  },
  {
   "cell_type": "code",
   "execution_count": 12,
   "metadata": {},
   "outputs": [],
   "source": [
    "pca_amp = PCA(n_components=500)\n",
    "pca_amp.fit(X_amp_train_standardized)\n",
    "X_amp_train_pca = pca_amp.transform(X_amp_train_standardized)\n",
    "X_amp_test_pca = pca_amp.transform(X_amp_test_standardized)"
   ]
  },
  {
   "cell_type": "code",
   "execution_count": 42,
   "metadata": {},
   "outputs": [
    {
     "name": "stdout",
     "output_type": "stream",
     "text": [
      "Amp train accuracy: 0.36538807851611743\n",
      "Amp test accuracy: 0.1952662721893491\n",
      "Amp train per-class accuracies: [0.40857143 0.24873096 0.38936782 0.2332696  0.31301483 0.3925104\n",
      " 0.56626506 0.4118541  0.36077844 0.38428571]\n",
      "Amp test per-class accuracies: [0.25333333 0.05128205 0.47157191 0.05240175 0.14015152 0.17045455\n",
      " 0.06666667 0.16101695 0.1059322  0.17      ]\n"
     ]
    },
    {
     "name": "stderr",
     "output_type": "stream",
     "text": [
      "/usr/local/lib/python3.7/site-packages/sklearn/linear_model/_sag.py:329: ConvergenceWarning: The max_iter was reached which means the coef_ did not converge\n",
      "  \"the coef_ did not converge\", ConvergenceWarning)\n"
     ]
    }
   ],
   "source": [
    "lr_amp = LogisticRegression(random_state=0, solver='saga', max_iter=2000)\n",
    "lr_amp.fit(X_amp_train_pca, y_amp_train)\n",
    "\n",
    "print(f'Amp train accuracy: {lr_amp.score(X_amp_train_pca, y_amp_train)}')\n",
    "print(f'Amp test accuracy: {lr_amp.score(X_amp_test_pca, y_amp_test)}')\n",
    "y_preds = lr_amp.predict(X_amp_train_pca)\n",
    "print(f'Amp train per-class accuracies: {confusion_matrix(y_amp_train, y_preds, normalize=\"true\").diagonal()}')\n",
    "y_preds = lr_amp.predict(X_amp_test_pca)\n",
    "print(f'Amp test per-class accuracies: {confusion_matrix(y_amp_test, y_preds, normalize=\"true\").diagonal()}')"
   ]
  },
  {
   "cell_type": "code",
   "execution_count": 47,
   "metadata": {},
   "outputs": [],
   "source": [
    "pca_mel = PCA(n_components=500)\n",
    "pca_mel.fit(X_mel_train_standardized)\n",
    "X_mel_train_pca = pca_mel.transform(X_mel_train_standardized)\n",
    "X_mel_test_pca = pca_mel.transform(X_mel_test_standardized)"
   ]
  },
  {
   "cell_type": "code",
   "execution_count": 48,
   "metadata": {
    "scrolled": false
   },
   "outputs": [
    {
     "name": "stdout",
     "output_type": "stream",
     "text": [
      "Mel train accuracy: 0.5793264901854853\n",
      "Mel test accuracy: 0.3791533909877105\n",
      "Mel train per-class accuracies: [0.52285714 0.56345178 0.83045977 0.47418738 0.66556837 0.47711512\n",
      " 0.80722892 0.65045593 0.51047904 0.47142857]\n",
      "Mel test per-class accuracies: [0.24333333 0.69230769 0.81939799 0.24017467 0.41287879 0.18181818\n",
      " 0.4        0.3940678  0.44915254 0.21666667]\n"
     ]
    },
    {
     "name": "stderr",
     "output_type": "stream",
     "text": [
      "/usr/local/lib/python3.7/site-packages/sklearn/linear_model/_sag.py:329: ConvergenceWarning: The max_iter was reached which means the coef_ did not converge\n",
      "  \"the coef_ did not converge\", ConvergenceWarning)\n"
     ]
    }
   ],
   "source": [
    "lr_mel = LogisticRegression(random_state=0, solver='saga', max_iter=2000)\n",
    "lr_mel.fit(X_mel_train_pca, y_mel_train)\n",
    "\n",
    "print(f'Mel train accuracy: {lr_mel.score(X_mel_train_pca, y_mel_train)}')\n",
    "print(f'Mel test accuracy: {lr_mel.score(X_mel_test_pca, y_mel_test)}')\n",
    "y_preds = lr_mel.predict(X_mel_train_pca)\n",
    "print(f'Mel train per-class accuracies: {confusion_matrix(y_mel_train, y_preds, normalize=\"true\").diagonal()}')\n",
    "y_preds = lr_mel.predict(X_mel_test_pca)\n",
    "print(f'Mel test per-class accuracies: {confusion_matrix(y_mel_test, y_preds, normalize=\"true\").diagonal()}')"
   ]
  },
  {
   "cell_type": "markdown",
   "metadata": {},
   "source": [
    "### Part B"
   ]
  },
  {
   "cell_type": "code",
   "execution_count": 38,
   "metadata": {},
   "outputs": [],
   "source": [
    "from sklearn.neural_network import MLPClassifier\n",
    "from sklearn.ensemble import RandomForestClassifier\n",
    "from sklearn.neighbors import KNeighborsClassifier"
   ]
  },
  {
   "cell_type": "code",
   "execution_count": 39,
   "metadata": {},
   "outputs": [
    {
     "name": "stdout",
     "output_type": "stream",
     "text": [
      "MLP Amp train accuracy: 1.0\n",
      "MLP Amp test accuracy: 0.1993627674101047\n",
      "MLP Amp train per-class accuracies: [1. 1. 1. 1. 1. 1. 1. 1. 1. 1.]\n",
      "MLP Amp test per-class accuracies: [0.28       0.02564103 0.17056856 0.20524017 0.04924242 0.33333333\n",
      " 0.06666667 0.01694915 0.43220339 0.15333333]\n"
     ]
    }
   ],
   "source": [
    "mlp = MLPClassifier(random_state=0)\n",
    "mlp.fit(X_amp_train_standardized, y_amp_train)\n",
    "\n",
    "print(f'MLP Amp train accuracy: {mlp.score(X_amp_train_standardized, y_amp_train)}')\n",
    "print(f'MLP Amp test accuracy: {mlp.score(X_amp_test_standardized, y_amp_test)}')\n",
    "y_preds = mlp.predict(X_amp_train_standardized)\n",
    "print(f'MLP Amp train per-class accuracies: {confusion_matrix(y_amp_train, y_preds, normalize=\"true\").diagonal()}')\n",
    "y_preds = mlp.predict(X_amp_test_standardized)\n",
    "print(f'MLP Amp test per-class accuracies: {confusion_matrix(y_amp_test, y_preds, normalize=\"true\").diagonal()}')"
   ]
  },
  {
   "cell_type": "code",
   "execution_count": 40,
   "metadata": {},
   "outputs": [
    {
     "name": "stdout",
     "output_type": "stream",
     "text": [
      "MLP Mel train accuracy: 0.8573743922204214\n",
      "MLP Mel test accuracy: 0.3705052344105599\n",
      "MLP Mel train per-class accuracies: [0.99857143 0.92385787 0.69252874 0.78967495 0.93904448 0.76837725\n",
      " 0.95180723 0.98024316 0.82185629 0.84      ]\n",
      "MLP Mel test per-class accuracies: [0.45666667 0.53846154 0.19732441 0.19650655 0.46212121 0.34469697\n",
      " 0.73333333 0.49576271 0.56355932 0.22333333]\n"
     ]
    }
   ],
   "source": [
    "mlp = MLPClassifier(random_state=0)\n",
    "mlp.fit(X_mel_train_standardized, y_mel_train)\n",
    "\n",
    "print(f'MLP Mel train accuracy: {mlp.score(X_mel_train_standardized, y_mel_train)}')\n",
    "print(f'MLP Mel test accuracy: {mlp.score(X_mel_test_standardized, y_mel_test)}')\n",
    "y_preds = mlp.predict(X_mel_train_standardized)\n",
    "print(f'MLP Mel train per-class accuracies: {confusion_matrix(y_mel_train, y_preds, normalize=\"true\").diagonal()}')\n",
    "y_preds = mlp.predict(X_mel_test_standardized)\n",
    "print(f'MLP Mel test per-class accuracies: {confusion_matrix(y_mel_test, y_preds, normalize=\"true\").diagonal()}')"
   ]
  },
  {
   "cell_type": "code",
   "execution_count": 43,
   "metadata": {},
   "outputs": [
    {
     "name": "stdout",
     "output_type": "stream",
     "text": [
      "RF Amp train accuracy: 1.0\n",
      "RF Amp test accuracy: 0.25534820209376424\n",
      "RF Amp train per-class accuracies: [1. 1. 1. 1. 1. 1. 1. 1. 1. 1.]\n",
      "RF Amp test per-class accuracies: [0.13666667 0.         0.55852843 0.27510917 0.24242424 0.36363636\n",
      " 0.         0.27966102 0.07627119 0.15333333]\n"
     ]
    }
   ],
   "source": [
    "rf = RandomForestClassifier(random_state=0)\n",
    "rf.fit(X_amp_train_standardized, y_amp_train)\n",
    "\n",
    "print(f'RF Amp train accuracy: {rf.score(X_amp_train_standardized, y_amp_train)}')\n",
    "print(f'RF Amp test accuracy: {rf.score(X_amp_test_standardized, y_amp_test)}')\n",
    "y_preds = rf.predict(X_amp_train_standardized)\n",
    "print(f'RF Amp train per-class accuracies: {confusion_matrix(y_amp_train, y_preds, normalize=\"true\").diagonal()}')\n",
    "y_preds = rf.predict(X_amp_test_standardized)\n",
    "print(f'RF Amp test per-class accuracies: {confusion_matrix(y_amp_test, y_preds, normalize=\"true\").diagonal()}')"
   ]
  },
  {
   "cell_type": "code",
   "execution_count": 44,
   "metadata": {},
   "outputs": [
    {
     "name": "stdout",
     "output_type": "stream",
     "text": [
      "RF Mel train accuracy: 1.0\n",
      "RF Mel test accuracy: 0.4756486117432863\n",
      "RF Mel train per-class accuracies: [1. 1. 1. 1. 1. 1. 1. 1. 1. 1.]\n",
      "RF Mel test per-class accuracies: [0.33666667 0.23076923 0.54180602 0.4279476  0.56818182 0.45833333\n",
      " 0.43333333 0.51694915 0.47033898 0.52666667]\n"
     ]
    }
   ],
   "source": [
    "rf = RandomForestClassifier(random_state=0)\n",
    "rf.fit(X_mel_train_standardized, y_mel_train)\n",
    "\n",
    "print(f'RF Mel train accuracy: {rf.score(X_mel_train_standardized, y_mel_train)}')\n",
    "print(f'RF Mel test accuracy: {rf.score(X_mel_test_standardized, y_mel_test)}')\n",
    "y_preds = rf.predict(X_mel_train_standardized)\n",
    "print(f'RF Mel train per-class accuracies: {confusion_matrix(y_mel_train, y_preds, normalize=\"true\").diagonal()}')\n",
    "y_preds = rf.predict(X_mel_test_standardized)\n",
    "print(f'RF Mel test per-class accuracies: {confusion_matrix(y_mel_test, y_preds, normalize=\"true\").diagonal()}')"
   ]
  },
  {
   "cell_type": "code",
   "execution_count": 45,
   "metadata": {},
   "outputs": [
    {
     "name": "stdout",
     "output_type": "stream",
     "text": [
      "KNN Amp train accuracy: 0.1975508734017648\n",
      "KNN Amp test accuracy: 0.16522530723714154\n",
      "KNN Amp train per-class accuracies: [0.32142857 0.01522843 0.18678161 0.10133843 0.         0.18169209\n",
      " 0.03614458 0.         0.81287425 0.01285714]\n",
      "KNN Amp test per-class accuracies: [0.29       0.         0.06354515 0.069869   0.         0.09848485\n",
      " 0.         0.         0.89830508 0.01      ]\n"
     ]
    }
   ],
   "source": [
    "knn = KNeighborsClassifier(n_neighbors=10)\n",
    "knn.fit(X_amp_train_standardized, y_amp_train)\n",
    "\n",
    "print(f'KNN Amp train accuracy: {knn.score(X_amp_train_standardized, y_amp_train)}')\n",
    "print(f'KNN Amp test accuracy: {knn.score(X_amp_test_standardized, y_amp_test)}')\n",
    "y_preds = knn.predict(X_amp_train_standardized)\n",
    "print(f'KNN Amp train per-class accuracies: {confusion_matrix(y_amp_train, y_preds, normalize=\"true\").diagonal()}')\n",
    "y_preds = knn.predict(X_amp_test_standardized)\n",
    "print(f'KNN Amp test per-class accuracies: {confusion_matrix(y_amp_test, y_preds, normalize=\"true\").diagonal()}')"
   ]
  },
  {
   "cell_type": "code",
   "execution_count": 46,
   "metadata": {},
   "outputs": [
    {
     "name": "stdout",
     "output_type": "stream",
     "text": [
      "KNN Mel train accuracy: 0.5647397802989376\n",
      "KNN Mel test accuracy: 0.3035958124715521\n",
      "KNN Mel train per-class accuracies: [0.80285714 0.41116751 0.3591954  0.29445507 0.7199341  0.8668516\n",
      " 0.4939759  0.72948328 0.58233533 0.16714286]\n",
      "KNN Mel test per-class accuracies: [0.29333333 0.33333333 0.23076923 0.10917031 0.54924242 0.37878788\n",
      " 0.43333333 0.34322034 0.48305085 0.06333333]\n"
     ]
    }
   ],
   "source": [
    "knn = KNeighborsClassifier(n_neighbors=10)\n",
    "knn.fit(X_mel_train_standardized, y_mel_train)\n",
    "\n",
    "print(f'KNN Mel train accuracy: {knn.score(X_mel_train_standardized, y_mel_train)}')\n",
    "print(f'KNN Mel test accuracy: {knn.score(X_mel_test_standardized, y_mel_test)}')\n",
    "y_preds = knn.predict(X_mel_train_standardized)\n",
    "print(f'KNN Mel train per-class accuracies: {confusion_matrix(y_mel_train, y_preds, normalize=\"true\").diagonal()}')\n",
    "y_preds = knn.predict(X_mel_test_standardized)\n",
    "print(f'KNN Mel test per-class accuracies: {confusion_matrix(y_mel_test, y_preds, normalize=\"true\").diagonal()}')"
   ]
  },
  {
   "cell_type": "markdown",
   "metadata": {},
   "source": [
    "### Part C"
   ]
  },
  {
   "cell_type": "code",
   "execution_count": 59,
   "metadata": {},
   "outputs": [],
   "source": [
    "from sklearn.model_selection import RandomizedSearchCV\n",
    "from scipy.stats import uniform"
   ]
  },
  {
   "cell_type": "code",
   "execution_count": 62,
   "metadata": {
    "scrolled": true
   },
   "outputs": [
    {
     "name": "stderr",
     "output_type": "stream",
     "text": [
      "/usr/local/lib/python3.7/site-packages/sklearn/linear_model/_sag.py:329: ConvergenceWarning: The max_iter was reached which means the coef_ did not converge\n",
      "  \"the coef_ did not converge\", ConvergenceWarning)\n",
      "/usr/local/lib/python3.7/site-packages/sklearn/linear_model/_sag.py:329: ConvergenceWarning: The max_iter was reached which means the coef_ did not converge\n",
      "  \"the coef_ did not converge\", ConvergenceWarning)\n",
      "/usr/local/lib/python3.7/site-packages/sklearn/linear_model/_sag.py:329: ConvergenceWarning: The max_iter was reached which means the coef_ did not converge\n",
      "  \"the coef_ did not converge\", ConvergenceWarning)\n",
      "/usr/local/lib/python3.7/site-packages/sklearn/linear_model/_sag.py:329: ConvergenceWarning: The max_iter was reached which means the coef_ did not converge\n",
      "  \"the coef_ did not converge\", ConvergenceWarning)\n",
      "/usr/local/lib/python3.7/site-packages/sklearn/linear_model/_sag.py:329: ConvergenceWarning: The max_iter was reached which means the coef_ did not converge\n",
      "  \"the coef_ did not converge\", ConvergenceWarning)\n",
      "/usr/local/lib/python3.7/site-packages/sklearn/linear_model/_sag.py:329: ConvergenceWarning: The max_iter was reached which means the coef_ did not converge\n",
      "  \"the coef_ did not converge\", ConvergenceWarning)\n",
      "/usr/local/lib/python3.7/site-packages/sklearn/linear_model/_sag.py:329: ConvergenceWarning: The max_iter was reached which means the coef_ did not converge\n",
      "  \"the coef_ did not converge\", ConvergenceWarning)\n",
      "/usr/local/lib/python3.7/site-packages/sklearn/linear_model/_sag.py:329: ConvergenceWarning: The max_iter was reached which means the coef_ did not converge\n",
      "  \"the coef_ did not converge\", ConvergenceWarning)\n",
      "/usr/local/lib/python3.7/site-packages/sklearn/linear_model/_sag.py:329: ConvergenceWarning: The max_iter was reached which means the coef_ did not converge\n",
      "  \"the coef_ did not converge\", ConvergenceWarning)\n",
      "/usr/local/lib/python3.7/site-packages/sklearn/linear_model/_sag.py:329: ConvergenceWarning: The max_iter was reached which means the coef_ did not converge\n",
      "  \"the coef_ did not converge\", ConvergenceWarning)\n",
      "/usr/local/lib/python3.7/site-packages/sklearn/linear_model/_sag.py:329: ConvergenceWarning: The max_iter was reached which means the coef_ did not converge\n",
      "  \"the coef_ did not converge\", ConvergenceWarning)\n",
      "/usr/local/lib/python3.7/site-packages/sklearn/linear_model/_sag.py:329: ConvergenceWarning: The max_iter was reached which means the coef_ did not converge\n",
      "  \"the coef_ did not converge\", ConvergenceWarning)\n",
      "/usr/local/lib/python3.7/site-packages/sklearn/linear_model/_sag.py:329: ConvergenceWarning: The max_iter was reached which means the coef_ did not converge\n",
      "  \"the coef_ did not converge\", ConvergenceWarning)\n",
      "/usr/local/lib/python3.7/site-packages/sklearn/linear_model/_sag.py:329: ConvergenceWarning: The max_iter was reached which means the coef_ did not converge\n",
      "  \"the coef_ did not converge\", ConvergenceWarning)\n",
      "/usr/local/lib/python3.7/site-packages/sklearn/linear_model/_sag.py:329: ConvergenceWarning: The max_iter was reached which means the coef_ did not converge\n",
      "  \"the coef_ did not converge\", ConvergenceWarning)\n",
      "/usr/local/lib/python3.7/site-packages/sklearn/linear_model/_sag.py:329: ConvergenceWarning: The max_iter was reached which means the coef_ did not converge\n",
      "  \"the coef_ did not converge\", ConvergenceWarning)\n",
      "/usr/local/lib/python3.7/site-packages/sklearn/linear_model/_sag.py:329: ConvergenceWarning: The max_iter was reached which means the coef_ did not converge\n",
      "  \"the coef_ did not converge\", ConvergenceWarning)\n",
      "/usr/local/lib/python3.7/site-packages/sklearn/linear_model/_sag.py:329: ConvergenceWarning: The max_iter was reached which means the coef_ did not converge\n",
      "  \"the coef_ did not converge\", ConvergenceWarning)\n",
      "/usr/local/lib/python3.7/site-packages/sklearn/linear_model/_sag.py:329: ConvergenceWarning: The max_iter was reached which means the coef_ did not converge\n",
      "  \"the coef_ did not converge\", ConvergenceWarning)\n",
      "/usr/local/lib/python3.7/site-packages/sklearn/linear_model/_sag.py:329: ConvergenceWarning: The max_iter was reached which means the coef_ did not converge\n",
      "  \"the coef_ did not converge\", ConvergenceWarning)\n",
      "/usr/local/lib/python3.7/site-packages/sklearn/linear_model/_sag.py:329: ConvergenceWarning: The max_iter was reached which means the coef_ did not converge\n",
      "  \"the coef_ did not converge\", ConvergenceWarning)\n",
      "/usr/local/lib/python3.7/site-packages/sklearn/linear_model/_sag.py:329: ConvergenceWarning: The max_iter was reached which means the coef_ did not converge\n",
      "  \"the coef_ did not converge\", ConvergenceWarning)\n",
      "/usr/local/lib/python3.7/site-packages/sklearn/linear_model/_sag.py:329: ConvergenceWarning: The max_iter was reached which means the coef_ did not converge\n",
      "  \"the coef_ did not converge\", ConvergenceWarning)\n",
      "/usr/local/lib/python3.7/site-packages/sklearn/linear_model/_sag.py:329: ConvergenceWarning: The max_iter was reached which means the coef_ did not converge\n",
      "  \"the coef_ did not converge\", ConvergenceWarning)\n",
      "/usr/local/lib/python3.7/site-packages/sklearn/linear_model/_sag.py:329: ConvergenceWarning: The max_iter was reached which means the coef_ did not converge\n",
      "  \"the coef_ did not converge\", ConvergenceWarning)\n",
      "/usr/local/lib/python3.7/site-packages/sklearn/linear_model/_sag.py:329: ConvergenceWarning: The max_iter was reached which means the coef_ did not converge\n",
      "  \"the coef_ did not converge\", ConvergenceWarning)\n"
     ]
    },
    {
     "data": {
      "text/plain": [
       "{'C': 0.5978108278905419, 'penalty': 'l1'}"
      ]
     },
     "execution_count": 62,
     "metadata": {},
     "output_type": "execute_result"
    }
   ],
   "source": [
    "lr_amp_hyperparams = dict(\n",
    "    C=uniform(loc=0.5, scale=2),\n",
    "    penalty=['l2', 'l1']\n",
    ")\n",
    "lr_amp = LogisticRegression(random_state=0, solver='saga', max_iter=200)\n",
    "lr_amp_searcher = RandomizedSearchCV(lr_amp, lr_amp_hyperparams, n_iter=5, cv=5, return_train_score=True)\n",
    "lr_amp_search = lr_amp_searcher.fit(X_amp_train_pca, y_amp_train)\n",
    "lr_amp_search.best_params_"
   ]
  },
  {
   "cell_type": "code",
   "execution_count": 74,
   "metadata": {},
   "outputs": [
    {
     "data": {
      "text/plain": [
       "0.1943559399180701"
      ]
     },
     "execution_count": 74,
     "metadata": {},
     "output_type": "execute_result"
    }
   ],
   "source": [
    "lr_amp_search.score(X_amp_test_pca, y_amp_test)"
   ]
  },
  {
   "cell_type": "code",
   "execution_count": 89,
   "metadata": {},
   "outputs": [
    {
     "data": {
      "text/plain": [
       "{'mean_fit_time': array([52.54316225, 38.8340857 , 20.16063542, 37.22689791, 38.33438158]),\n",
       " 'std_fit_time': array([9.36174318, 4.30572187, 1.0313742 , 0.63740236, 1.04631774]),\n",
       " 'mean_score_time': array([0.00346603, 0.00265326, 0.00191956, 0.00197492, 0.00312834]),\n",
       " 'std_score_time': array([0.00177002, 0.00160723, 0.0001996 , 0.00028399, 0.00133964]),\n",
       " 'param_C': masked_array(data=[2.3797948648339897, 0.8114284842088801,\n",
       "                    1.586781505231945, 1.9236351722635636,\n",
       "                    0.5978108278905419],\n",
       "              mask=[False, False, False, False, False],\n",
       "        fill_value='?',\n",
       "             dtype=object),\n",
       " 'param_penalty': masked_array(data=['l1', 'l1', 'l2', 'l1', 'l1'],\n",
       "              mask=[False, False, False, False, False],\n",
       "        fill_value='?',\n",
       "             dtype=object),\n",
       " 'params': [{'C': 2.3797948648339897, 'penalty': 'l1'},\n",
       "  {'C': 0.8114284842088801, 'penalty': 'l1'},\n",
       "  {'C': 1.586781505231945, 'penalty': 'l2'},\n",
       "  {'C': 1.9236351722635636, 'penalty': 'l1'},\n",
       "  {'C': 0.5978108278905419, 'penalty': 'l1'}],\n",
       " 'split0_test_score': array([0.14761476, 0.14671467, 0.14761476, 0.14761476, 0.14941494]),\n",
       " 'split1_test_score': array([0.19351935, 0.19351935, 0.19351935, 0.19441944, 0.19441944]),\n",
       " 'split2_test_score': array([0.17371737, 0.17551755, 0.17371737, 0.17371737, 0.17281728]),\n",
       " 'split3_test_score': array([0.13873874, 0.13603604, 0.13873874, 0.13693694, 0.13603604]),\n",
       " 'split4_test_score': array([0.15225225, 0.15225225, 0.15225225, 0.15135135, 0.15405405]),\n",
       " 'mean_test_score': array([0.1611685 , 0.16080797, 0.1611685 , 0.16080797, 0.16134835]),\n",
       " 'std_test_score': array([0.01985119, 0.02084167, 0.01985119, 0.02063831, 0.02030547]),\n",
       " 'rank_test_score': array([2, 4, 2, 4, 1], dtype=int32),\n",
       " 'split0_train_score': array([0.39644304, 0.39576767, 0.39711842, 0.39711842, 0.39576767]),\n",
       " 'split1_train_score': array([0.38406123, 0.38383611, 0.38361099, 0.38496173, 0.38383611]),\n",
       " 'split2_train_score': array([0.40274651, 0.40252139, 0.40319676, 0.40252139, 0.40207114]),\n",
       " 'split3_train_score': array([0.41030835, 0.40805762, 0.41098357, 0.41008328, 0.40805762]),\n",
       " 'split4_train_score': array([0.37677245, 0.37587216, 0.37767274, 0.3772226 , 0.37677245]),\n",
       " 'mean_train_score': array([0.39406632, 0.39321099, 0.39451649, 0.39438148, 0.393301  ]),\n",
       " 'std_train_score': array([0.01219818, 0.01185045, 0.01229572, 0.01186132, 0.01151985])}"
      ]
     },
     "execution_count": 89,
     "metadata": {},
     "output_type": "execute_result"
    }
   ],
   "source": [
    "lr_amp_search.cv_results_"
   ]
  },
  {
   "cell_type": "code",
   "execution_count": 97,
   "metadata": {
    "scrolled": false
   },
   "outputs": [
    {
     "data": {
      "text/plain": [
       "Text(0, 0.5, 'Mean Test Score')"
      ]
     },
     "execution_count": 97,
     "metadata": {},
     "output_type": "execute_result"
    },
    {
     "data": {
      "image/png": "[encoded data removed]",
      "text/plain": [
       "<Figure size 432x288 with 1 Axes>"
      ]
     },
     "metadata": {
      "needs_background": "light"
     },
     "output_type": "display_data"
    }
   ],
   "source": [
    "plt.bar(np.arange(1, 6), lr_amp_search.cv_results_['mean_test_score'])\n",
    "plt.ylim(0.0, 1.0)\n",
    "plt.xlabel('Random Draw')\n",
    "plt.ylabel('Mean Test Score')"
   ]
  },
  {
   "cell_type": "code",
   "execution_count": 63,
   "metadata": {
    "scrolled": true
   },
   "outputs": [
    {
     "name": "stderr",
     "output_type": "stream",
     "text": [
      "/usr/local/lib/python3.7/site-packages/sklearn/linear_model/_sag.py:329: ConvergenceWarning: The max_iter was reached which means the coef_ did not converge\n",
      "  \"the coef_ did not converge\", ConvergenceWarning)\n",
      "/usr/local/lib/python3.7/site-packages/sklearn/linear_model/_sag.py:329: ConvergenceWarning: The max_iter was reached which means the coef_ did not converge\n",
      "  \"the coef_ did not converge\", ConvergenceWarning)\n",
      "/usr/local/lib/python3.7/site-packages/sklearn/linear_model/_sag.py:329: ConvergenceWarning: The max_iter was reached which means the coef_ did not converge\n",
      "  \"the coef_ did not converge\", ConvergenceWarning)\n",
      "/usr/local/lib/python3.7/site-packages/sklearn/linear_model/_sag.py:329: ConvergenceWarning: The max_iter was reached which means the coef_ did not converge\n",
      "  \"the coef_ did not converge\", ConvergenceWarning)\n",
      "/usr/local/lib/python3.7/site-packages/sklearn/linear_model/_sag.py:329: ConvergenceWarning: The max_iter was reached which means the coef_ did not converge\n",
      "  \"the coef_ did not converge\", ConvergenceWarning)\n",
      "/usr/local/lib/python3.7/site-packages/sklearn/linear_model/_sag.py:329: ConvergenceWarning: The max_iter was reached which means the coef_ did not converge\n",
      "  \"the coef_ did not converge\", ConvergenceWarning)\n",
      "/usr/local/lib/python3.7/site-packages/sklearn/linear_model/_sag.py:329: ConvergenceWarning: The max_iter was reached which means the coef_ did not converge\n",
      "  \"the coef_ did not converge\", ConvergenceWarning)\n",
      "/usr/local/lib/python3.7/site-packages/sklearn/linear_model/_sag.py:329: ConvergenceWarning: The max_iter was reached which means the coef_ did not converge\n",
      "  \"the coef_ did not converge\", ConvergenceWarning)\n",
      "/usr/local/lib/python3.7/site-packages/sklearn/linear_model/_sag.py:329: ConvergenceWarning: The max_iter was reached which means the coef_ did not converge\n",
      "  \"the coef_ did not converge\", ConvergenceWarning)\n",
      "/usr/local/lib/python3.7/site-packages/sklearn/linear_model/_sag.py:329: ConvergenceWarning: The max_iter was reached which means the coef_ did not converge\n",
      "  \"the coef_ did not converge\", ConvergenceWarning)\n",
      "/usr/local/lib/python3.7/site-packages/sklearn/linear_model/_sag.py:329: ConvergenceWarning: The max_iter was reached which means the coef_ did not converge\n",
      "  \"the coef_ did not converge\", ConvergenceWarning)\n",
      "/usr/local/lib/python3.7/site-packages/sklearn/linear_model/_sag.py:329: ConvergenceWarning: The max_iter was reached which means the coef_ did not converge\n",
      "  \"the coef_ did not converge\", ConvergenceWarning)\n",
      "/usr/local/lib/python3.7/site-packages/sklearn/linear_model/_sag.py:329: ConvergenceWarning: The max_iter was reached which means the coef_ did not converge\n",
      "  \"the coef_ did not converge\", ConvergenceWarning)\n",
      "/usr/local/lib/python3.7/site-packages/sklearn/linear_model/_sag.py:329: ConvergenceWarning: The max_iter was reached which means the coef_ did not converge\n",
      "  \"the coef_ did not converge\", ConvergenceWarning)\n",
      "/usr/local/lib/python3.7/site-packages/sklearn/linear_model/_sag.py:329: ConvergenceWarning: The max_iter was reached which means the coef_ did not converge\n",
      "  \"the coef_ did not converge\", ConvergenceWarning)\n",
      "/usr/local/lib/python3.7/site-packages/sklearn/linear_model/_sag.py:329: ConvergenceWarning: The max_iter was reached which means the coef_ did not converge\n",
      "  \"the coef_ did not converge\", ConvergenceWarning)\n",
      "/usr/local/lib/python3.7/site-packages/sklearn/linear_model/_sag.py:329: ConvergenceWarning: The max_iter was reached which means the coef_ did not converge\n",
      "  \"the coef_ did not converge\", ConvergenceWarning)\n",
      "/usr/local/lib/python3.7/site-packages/sklearn/linear_model/_sag.py:329: ConvergenceWarning: The max_iter was reached which means the coef_ did not converge\n",
      "  \"the coef_ did not converge\", ConvergenceWarning)\n",
      "/usr/local/lib/python3.7/site-packages/sklearn/linear_model/_sag.py:329: ConvergenceWarning: The max_iter was reached which means the coef_ did not converge\n",
      "  \"the coef_ did not converge\", ConvergenceWarning)\n",
      "/usr/local/lib/python3.7/site-packages/sklearn/linear_model/_sag.py:329: ConvergenceWarning: The max_iter was reached which means the coef_ did not converge\n",
      "  \"the coef_ did not converge\", ConvergenceWarning)\n",
      "/usr/local/lib/python3.7/site-packages/sklearn/linear_model/_sag.py:329: ConvergenceWarning: The max_iter was reached which means the coef_ did not converge\n",
      "  \"the coef_ did not converge\", ConvergenceWarning)\n",
      "/usr/local/lib/python3.7/site-packages/sklearn/linear_model/_sag.py:329: ConvergenceWarning: The max_iter was reached which means the coef_ did not converge\n",
      "  \"the coef_ did not converge\", ConvergenceWarning)\n",
      "/usr/local/lib/python3.7/site-packages/sklearn/linear_model/_sag.py:329: ConvergenceWarning: The max_iter was reached which means the coef_ did not converge\n",
      "  \"the coef_ did not converge\", ConvergenceWarning)\n",
      "/usr/local/lib/python3.7/site-packages/sklearn/linear_model/_sag.py:329: ConvergenceWarning: The max_iter was reached which means the coef_ did not converge\n",
      "  \"the coef_ did not converge\", ConvergenceWarning)\n",
      "/usr/local/lib/python3.7/site-packages/sklearn/linear_model/_sag.py:329: ConvergenceWarning: The max_iter was reached which means the coef_ did not converge\n",
      "  \"the coef_ did not converge\", ConvergenceWarning)\n",
      "/usr/local/lib/python3.7/site-packages/sklearn/linear_model/_sag.py:329: ConvergenceWarning: The max_iter was reached which means the coef_ did not converge\n",
      "  \"the coef_ did not converge\", ConvergenceWarning)\n"
     ]
    },
    {
     "data": {
      "text/plain": [
       "{'C': 0.9562415782163154, 'penalty': 'l1'}"
      ]
     },
     "execution_count": 63,
     "metadata": {},
     "output_type": "execute_result"
    }
   ],
   "source": [
    "lr_mel_hyperparams = dict(\n",
    "    C=uniform(loc=0.5, scale=2),\n",
    "    penalty=['l2', 'l1']\n",
    ")\n",
    "lr_mel = LogisticRegression(random_state=0, solver='saga', max_iter=200)\n",
    "lr_mel_searcher = RandomizedSearchCV(lr_mel, lr_mel_hyperparams, n_iter=5, cv=5, return_train_score=True)\n",
    "lr_mel_search = lr_mel_searcher.fit(X_mel_train_pca, y_mel_train)\n",
    "lr_mel_search.best_params_"
   ]
  },
  {
   "cell_type": "code",
   "execution_count": 75,
   "metadata": {},
   "outputs": [
    {
     "data": {
      "text/plain": [
       "0.3800637232589895"
      ]
     },
     "execution_count": 75,
     "metadata": {},
     "output_type": "execute_result"
    }
   ],
   "source": [
    "lr_mel_search.score(X_mel_test_pca, y_mel_test)"
   ]
  },
  {
   "cell_type": "code",
   "execution_count": 93,
   "metadata": {},
   "outputs": [
    {
     "data": {
      "text/plain": [
       "Text(0, 0.5, 'Mean Test Score')"
      ]
     },
     "execution_count": 93,
     "metadata": {},
     "output_type": "execute_result"
    },
    {
     "data": {
      "image/png": "[encoded data removed]",
      "text/plain": [
       "<Figure size 432x288 with 1 Axes>"
      ]
     },
     "metadata": {
      "needs_background": "light"
     },
     "output_type": "display_data"
    }
   ],
   "source": [
    "plt.bar(np.arange(1, 6), lr_mel_search.cv_results_['mean_test_score'])\n",
    "plt.ylim(0.0, 1.0)\n",
    "plt.xlabel('Random Draw')\n",
    "plt.ylabel('Mean Test Score')"
   ]
  },
  {
   "cell_type": "code",
   "execution_count": 61,
   "metadata": {},
   "outputs": [
    {
     "data": {
      "text/plain": [
       "{'n_estimators': 101, 'max_depth': 10}"
      ]
     },
     "execution_count": 61,
     "metadata": {},
     "output_type": "execute_result"
    }
   ],
   "source": [
    "rf_amp_hyperparams = dict(\n",
    "    n_estimators=np.linspace(64, 128, 64, dtype=int),\n",
    "    max_depth=np.linspace(1, 32, 32, dtype=int)\n",
    ")\n",
    "rf_amp = RandomForestClassifier(random_state=0)\n",
    "rf_amp_searcher = RandomizedSearchCV(rf_amp, rf_amp_hyperparams, n_iter=5, cv=5, return_train_score=True)\n",
    "rf_amp_search = rf_amp_searcher.fit(X_amp_train_standardized, y_amp_train)\n",
    "rf_amp_search.best_params_"
   ]
  },
  {
   "cell_type": "code",
   "execution_count": 76,
   "metadata": {},
   "outputs": [
    {
     "data": {
      "text/plain": [
       "0.24533454710969504"
      ]
     },
     "execution_count": 76,
     "metadata": {},
     "output_type": "execute_result"
    }
   ],
   "source": [
    "rf_amp_search.score(X_amp_test_standardized, y_amp_test)"
   ]
  },
  {
   "cell_type": "code",
   "execution_count": 94,
   "metadata": {},
   "outputs": [
    {
     "data": {
      "text/plain": [
       "Text(0, 0.5, 'Mean Test Score')"
      ]
     },
     "execution_count": 94,
     "metadata": {},
     "output_type": "execute_result"
    },
    {
     "data": {
      "image/png": "[encoded data removed]",
      "text/plain": [
       "<Figure size 432x288 with 1 Axes>"
      ]
     },
     "metadata": {
      "needs_background": "light"
     },
     "output_type": "display_data"
    }
   ],
   "source": [
    "plt.bar(np.arange(1, 6), rf_amp_search.cv_results_['mean_test_score'])\n",
    "plt.ylim(0.0, 1.0)\n",
    "plt.xlabel('Random Draw')\n",
    "plt.ylabel('Mean Test Score')"
   ]
  },
  {
   "cell_type": "code",
   "execution_count": 60,
   "metadata": {
    "scrolled": true
   },
   "outputs": [
    {
     "data": {
      "text/plain": [
       "{'n_estimators': 122, 'max_depth': 26}"
      ]
     },
     "execution_count": 60,
     "metadata": {},
     "output_type": "execute_result"
    }
   ],
   "source": [
    "rf_mel_hyperparams = dict(\n",
    "    n_estimators=np.linspace(64, 128, 64, dtype=int),\n",
    "    max_depth=np.linspace(1, 32, 32, dtype=int)\n",
    ")\n",
    "rf_mel = RandomForestClassifier(random_state=0)\n",
    "rf_mel_searcher = RandomizedSearchCV(rf_mel, rf_mel_hyperparams, n_iter=5, cv=5, return_train_score=True)\n",
    "rf_mel_search = rf_mel_searcher.fit(X_mel_train_standardized, y_mel_train)\n",
    "rf_mel_search.best_params_"
   ]
  },
  {
   "cell_type": "code",
   "execution_count": 78,
   "metadata": {},
   "outputs": [
    {
     "data": {
      "text/plain": [
       "0.4829312699135184"
      ]
     },
     "execution_count": 78,
     "metadata": {},
     "output_type": "execute_result"
    }
   ],
   "source": [
    "rf_mel_search.score(X_mel_test_standardized, y_mel_test)"
   ]
  },
  {
   "cell_type": "code",
   "execution_count": 98,
   "metadata": {
    "scrolled": true
   },
   "outputs": [
    {
     "data": {
      "text/plain": [
       "Text(0, 0.5, 'Mean Test Score')"
      ]
     },
     "execution_count": 98,
     "metadata": {},
     "output_type": "execute_result"
    },
    {
     "data": {
      "image/png": "[encoded data removed]",
      "text/plain": [
       "<Figure size 432x288 with 1 Axes>"
      ]
     },
     "metadata": {
      "needs_background": "light"
     },
     "output_type": "display_data"
    }
   ],
   "source": [
    "plt.bar(np.arange(1, 6), rf_mel_search.cv_results_['mean_test_score'])\n",
    "plt.ylim(0.0, 1.0)\n",
    "plt.xlabel('Random Draw')\n",
    "plt.ylabel('Mean Test Score')"
   ]
  },
  {
   "cell_type": "markdown",
   "metadata": {},
   "source": [
    "### Part D"
   ]
  },
  {
   "cell_type": "code",
   "execution_count": 7,
   "metadata": {},
   "outputs": [],
   "source": [
    "from sklearn.ensemble import AdaBoostClassifier"
   ]
  },
  {
   "cell_type": "code",
   "execution_count": 13,
   "metadata": {},
   "outputs": [
    {
     "data": {
      "text/plain": [
       "0.18525261720527994"
      ]
     },
     "execution_count": 13,
     "metadata": {},
     "output_type": "execute_result"
    }
   ],
   "source": [
    "ab = AdaBoostClassifier(n_estimators=100)\n",
    "ab.fit(X_amp_train_pca, y_amp_train)\n",
    "ab.score(X_amp_test_pca, y_amp_test)"
   ]
  }
 ],
 "metadata": {
  "kernelspec": {
   "display_name": "Python 3",
   "language": "python",
   "name": "python3"
  },
  "language_info": {
   "codemirror_mode": {
    "name": "ipython",
    "version": 3
   },
   "file_extension": ".py",
   "mimetype": "text/x-python",
   "name": "python",
   "nbconvert_exporter": "python",
   "pygments_lexer": "ipython3",
   "version": "3.7.6"
  }
 },
 "nbformat": 4,
 "nbformat_minor": 2
}
